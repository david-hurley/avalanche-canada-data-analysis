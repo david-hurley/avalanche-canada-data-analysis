{
 "cells": [
  {
   "cell_type": "code",
   "execution_count": 15,
   "metadata": {},
   "outputs": [],
   "source": [
    "\n",
    "import pandas as pd\n",
    "import time\n",
    "from selenium import webdriver"
   ]
  },
  {
   "cell_type": "code",
   "execution_count": 12,
   "metadata": {},
   "outputs": [],
   "source": [
    "# create test to confirm that a known avalanche condition day is what we are getting\n",
    "base_url = 'https://www.avalanche.ca/forecasts/archives/{}/{}'\n",
    "driver = webdriver.Firefox()\n",
    "driver.get(base_url.format('sea-to-sky', '2019-12-01')) # should be low for all conditions (current and forecast)\n",
    "time.sleep(3)\n",
    "\n",
    "alpine_element = driver.find_elements_by_xpath(\n",
    "    \"//*[@id='app']//*[@transform = 'translate(385 211)']//*[@x = '70']\")\n",
    "\n",
    "belowtree_element = driver.find_elements_by_xpath(\n",
    "    \"//*[@id='app']//*[@transform = 'translate(425 311)']//*[@x = '70']\")\n",
    "\n",
    "forecast_element = driver.find_elements_by_xpath(\n",
    "    \"//*[@id='app']//*[@class='_2tSd']//*[@class='Xgfa undefined _2j-o _2iRE']\")"
   ]
  },
  {
   "cell_type": "code",
   "execution_count": 14,
   "metadata": {},
   "outputs": [
    {
     "data": {
      "text/plain": [
       "['1 - Low', '1 - Low', '1 - Low', '1 - Low', '1 - Low', '1 - Low']"
      ]
     },
     "execution_count": 14,
     "metadata": {},
     "output_type": "execute_result"
    }
   ],
   "source": [
    "[x.text for x in forecast_element]"
   ]
  },
  {
   "cell_type": "code",
   "execution_count": 18,
   "metadata": {},
   "outputs": [],
   "source": [
    "def scrape(dates, region):\n",
    "    \"\"\" Scrape current and forecast conditions and problem text from AvalancheCanada.ca historical page \"\"\"\n",
    "\n",
    "    # empty list for current, current+1, current+2 forecast conditions and text problems\n",
    "    current_conditions = []\n",
    "    current_plus_1_conditions = []\n",
    "    current_plus_2_conditions = []\n",
    "    problem_conditions = []\n",
    "\n",
    "    # initialize selenium web driver\n",
    "    base_url = 'https://www.avalanche.ca/forecasts/archives/{}/{}'\n",
    "    driver = webdriver.Firefox()\n",
    "    driver.get(base_url.format(region, dates[0]))\n",
    "    time.sleep(3)  # slight pause for driver to load\n",
    "\n",
    "    # scrape avalanche canada data for each date\n",
    "    for date in dates:\n",
    "        \n",
    "        date_plus_1 = (pd.to_datetime(date) + pd.Timedelta('1 days')).strftime('%Y-%m-%d')  # tomorrows date\n",
    "        date_plus_2 = (pd.to_datetime(date) + pd.Timedelta('2 days')).strftime('%Y-%m-%d')  # day after tomorrows date\n",
    "\n",
    "        # locate relevant avalanche data in web driver, this is hard coded to the page JavaScript\n",
    "        alpine_element = driver.find_elements_by_xpath(\n",
    "            \"//*[@id='app']//*[@transform = 'translate(385 211)']//*[@x = '70']\")\n",
    "        treeline_element = driver.find_elements_by_xpath(\n",
    "            \"//*[@id='app']//*[@transform = 'translate(405 261)']//*[@x = '70']\")\n",
    "\n",
    "        belowtree_element = driver.find_elements_by_xpath(\n",
    "            \"//*[@id='app']//*[@transform = 'translate(425 311)']//*[@x = '70']\")\n",
    "\n",
    "        forecast_element = driver.find_elements_by_xpath(\n",
    "            \"//*[@id='app']//*[@class='_2tSd']//*[@class='Xgfa undefined _2j-o _2iRE']\")\n",
    "\n",
    "        problem_element = driver.find_elements_by_xpath(\"//*[@id='app']//*[@class='_1rb7']\")\n",
    "\n",
    "        # if no conditions exist then insert empty to list\n",
    "        if not alpine_element or not treeline_element or not belowtree_element or not forecast_element:\n",
    "            current_conditions.append([date])\n",
    "            current_plus_1_conditions.append([date_plus_1])\n",
    "            current_plus_2_conditions.append([date_plus_2])\n",
    "            problem_conditions.append([])\n",
    "        else:\n",
    "            # if conditions exist then parse data\n",
    "            alpine_conditions = [condition.text for condition in alpine_element]\n",
    "            treeline_conditions = [condition.text for condition in treeline_element]\n",
    "            belowtree_conditions = [condition.text for condition in belowtree_element]\n",
    "            future_conditions = [condition.text for condition in forecast_element]\n",
    "            problems = [prob.text for prob in problem_element]\n",
    "\n",
    "            # store data for current and forecast conditions and problem text, split based on output format from page\n",
    "            current_conditions.append([date, alpine_conditions[0].split(' - ')[-1], int(alpine_conditions[0].split(' - ')[0]),\n",
    "                                       treeline_conditions[0].split(' - ')[-1], int(treeline_conditions[0].split(' - ')[0]),\n",
    "                                       belowtree_conditions[0].split(' - ')[-1], int(belowtree_conditions[0].split(' - ')[0])])\n",
    "\n",
    "            current_plus_1_conditions.append(\n",
    "                [date_plus_1, future_conditions[0].split(' - ')[-1], int(future_conditions[0].split(' - ')[0]),\n",
    "                 future_conditions[1].split(' - ')[-1], int(future_conditions[1].split(' - ')[0]),\n",
    "                 future_conditions[2].split(' - ')[-1], int(future_conditions[2].split(' - ')[0])])\n",
    "\n",
    "            current_plus_2_conditions.append(\n",
    "                [date_plus_2, future_conditions[3].split(' - ')[-1], int(future_conditions[3].split(' - ')[0]),\n",
    "                 future_conditions[4].split(' - ')[-1], int(future_conditions[4].split(' - ')[0]),\n",
    "                 future_conditions[5].split(' - ')[-1], int(future_conditions[5].split(' - ')[0])])\n",
    "\n",
    "            problem_conditions.append(problems)\n",
    "\n",
    "        # slight pause for driver to load\n",
    "        driver.get(base_url.format(region, date_plus_1))\n",
    "        time.sleep(5)\n",
    "\n",
    "    driver.quit()  # close selenium driver\n",
    "\n",
    "    return current_conditions, current_plus_1_conditions, current_plus_2_conditions, problem_conditions"
   ]
  },
  {
   "cell_type": "code",
   "execution_count": 28,
   "metadata": {},
   "outputs": [
    {
     "name": "stdout",
     "output_type": "stream",
     "text": [
      "2019-12-01\n"
     ]
    }
   ],
   "source": [
    "conditions_today, conditions_today_plus1, conditions_today_plus2, _ = scrape(['2019-12-01'], 'sea-to-sky')"
   ]
  },
  {
   "cell_type": "code",
   "execution_count": 27,
   "metadata": {},
   "outputs": [
    {
     "data": {
      "text/plain": [
       "True"
      ]
     },
     "execution_count": 27,
     "metadata": {},
     "output_type": "execute_result"
    }
   ],
   "source": [
    "conditions_today[0] == ['2019-12-01', 'Low', 1, 'Low', 1, 'Low', 1]"
   ]
  },
  {
   "cell_type": "code",
   "execution_count": 30,
   "metadata": {},
   "outputs": [
    {
     "data": {
      "text/plain": [
       "[['2019-12-02', 'Low', 1, 'Low', 1, 'Low', 1]]"
      ]
     },
     "execution_count": 30,
     "metadata": {},
     "output_type": "execute_result"
    }
   ],
   "source": [
    "conditions_today_plus1"
   ]
  },
  {
   "cell_type": "code",
   "execution_count": null,
   "metadata": {},
   "outputs": [],
   "source": []
  }
 ],
 "metadata": {
  "kernelspec": {
   "display_name": "Python 3",
   "language": "python",
   "name": "python3"
  },
  "language_info": {
   "codemirror_mode": {
    "name": "ipython",
    "version": 3
   },
   "file_extension": ".py",
   "mimetype": "text/x-python",
   "name": "python",
   "nbconvert_exporter": "python",
   "pygments_lexer": "ipython3",
   "version": "3.7.9"
  }
 },
 "nbformat": 4,
 "nbformat_minor": 4
}
